{
 "cells": [
  {
   "cell_type": "code",
   "execution_count": 7,
   "metadata": {},
   "outputs": [
    {
     "name": "stdout",
     "output_type": "stream",
     "text": [
      "['All', 1999, 2008]\n"
     ]
    }
   ],
   "source": [
    "\n",
    "# Streamlit live coding script\n",
    "import streamlit as st\n",
    "import pandas as pd\n",
    "import matplotlib.pyplot as plt\n",
    "import plotly.express as px\n",
    "import plotly.graph_objects as go\n",
    "from urllib.request import urlopen\n",
    "import json\n",
    "from copy import deepcopy\n",
    "\n",
    "# @st.cache_data\n",
    "def load_data(path):\n",
    "    df = pd.read_csv(path)\n",
    "    return df\n",
    "\n",
    "# First some MPG Data Exploration\n",
    "mpg_df_raw = load_data(path=\"/Users/Kittiboon/Desktop/00 DS_Zurich/my-first-streamlit-app/data/raw/mpg.csv\")\n",
    "mpg_df = deepcopy(mpg_df_raw)\n",
    "\n",
    "# # Add title and header\n",
    "# st.title(\"Introduction to Streamlit\")\n",
    "# st.header(\"MPG Data Exploration\")\n",
    "\n",
    "# #st.table(data=mpg_df)\n",
    "# if st.checkbox(\"Show Dataframe\"):\n",
    "\n",
    "#     st.subheader(\"This is my dataset:\")\n",
    "#     st.dataframe(data=mpg_df)\n",
    "\n",
    "# #left_column, right_column = st.columns(2)\n",
    "# left_column, middle_column, right_column = st.columns([3, 1, 1])\n",
    "\n",
    "years = [\"All\"]+sorted(pd.unique(mpg_df['year']))\n",
    "\n",
    "print(years)\n",
    "\n",
    "# # Added Class dropdown\n",
    "# classes = [\"\"]\n"
   ]
  },
  {
   "cell_type": "code",
   "execution_count": null,
   "metadata": {},
   "outputs": [],
   "source": []
  }
 ],
 "metadata": {
  "kernelspec": {
   "display_name": "Streamlit",
   "language": "python",
   "name": "python3"
  },
  "language_info": {
   "codemirror_mode": {
    "name": "ipython",
    "version": 3
   },
   "file_extension": ".py",
   "mimetype": "text/x-python",
   "name": "python",
   "nbconvert_exporter": "python",
   "pygments_lexer": "ipython3",
   "version": "3.10.14"
  }
 },
 "nbformat": 4,
 "nbformat_minor": 2
}
